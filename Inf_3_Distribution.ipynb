{
  "nbformat": 4,
  "nbformat_minor": 0,
  "metadata": {
    "colab": {
      "provenance": [],
      "authorship_tag": "ABX9TyOQJ3c3aY6+M8KEACDTT/mk",
      "include_colab_link": true
    },
    "kernelspec": {
      "name": "python3",
      "display_name": "Python 3"
    },
    "language_info": {
      "name": "python"
    }
  },
  "cells": [
    {
      "cell_type": "markdown",
      "metadata": {
        "id": "view-in-github",
        "colab_type": "text"
      },
      "source": [
        "<a href=\"https://colab.research.google.com/github/Nikolay1982Nikolaev/Inferential-Statistics-Bicocca/blob/main/Inf_3_Distribution.ipynb\" target=\"_parent\"><img src=\"https://colab.research.google.com/assets/colab-badge.svg\" alt=\"Open In Colab\"/></a>"
      ]
    },
    {
      "cell_type": "markdown",
      "source": [
        "Distribution are used to model populations\n",
        "\n",
        "family of distribution: is indexed by one or more parameters, which allow us to vary certain characteristics of the distribution"
      ],
      "metadata": {
        "id": "DNV74gukx6n7"
      }
    },
    {
      "cell_type": "markdown",
      "source": [
        "## DIscrete Distributios:\n",
        "- if the range of X, the sample space is countable.\n",
        "\n",
        "\n"
      ],
      "metadata": {
        "id": "5LgfEDjMx6qd"
      }
    },
    {
      "cell_type": "markdown",
      "source": [
        "## Discrete Uniform Distribution:\n",
        "\n",
        "(1, N) if $$P(X=x|N)= \\frac{1}{N}$$ x= 1,2,...N\n",
        "\n",
        "N-specified integer\n",
        "\n",
        "- puts equal mass on each of the outcomes 1,2...N\n",
        "\n",
        "Mean:\n",
        "\n",
        "\n",
        "Variance: $\\frac{(N+1)(N-1)}{12}$\n",
        "\n",
        "\n",
        "\n"
      ],
      "metadata": {
        "id": "Bdgpuqvzx6s5"
      }
    },
    {
      "cell_type": "markdown",
      "source": [
        "## Binomial Distribution:\n",
        "\n",
        "- based on Bernoulli trial\n",
        "\n",
        "x=\n",
        "- 1 with prob p - success\n",
        "- 0 with prob 1-p - failure\n",
        "- $0 \\leq p \\leq 1$\n",
        "\n",
        "Bernoulli(p)\n",
        "- $E[X]= 1p + 0(1-p)= p$\n",
        "- $Var[X]= (1-p)^2p + (0-p)^2 (1-p)= p(1-p)$\n",
        "\n",
        "\n",
        "$$P(Y=y|n, p)= \\binom{n}{y}p^y (1-p)^{n-y}$$\n",
        "y = 0,1,2...n\n",
        "\n",
        "Binomial Theorem: 3.2.2. For any real numbers x and y and integer $n \\geq 0$\n",
        "\n",
        "$$(x+y)^n \\sum_{i=0}^n \\binom{n}{i} x^i y^{n-i}$$\n",
        "\n",
        "- Mean: $E[X]= np$\n",
        "- $Var[X]= np(1-p)$\n",
        "\n",
        "- mgf: $M_X(t)= [pe^t + (1-p)]^n$\n",
        "\n",
        "\n"
      ],
      "metadata": {
        "id": "Km1viWXmx6vX"
      }
    },
    {
      "cell_type": "markdown",
      "source": [
        "$$ POisson Distribution:\n",
        "\n",
        "- model for a number of different types of experiments\n",
        "\n",
        "- waitinh for occurance\n",
        "- the numbers of occurence in a given time interval\n",
        "\n",
        "$\\lambda$ - intensity parameter\n",
        "\n",
        "$$P(X=x|\\lambda) = \\frac{e^{-\\lambda}. \\lambda^x}{x!}$$\n",
        "- x = 0,1...\n",
        "\n",
        "- Mean: $E[X]= \\lambda$\n",
        "\n",
        "- $Var[X]= \\lambda$\n",
        "- mgf: $M_X(t)= e^{\\lambda(e^t-1)}$\n",
        "\n",
        "Example: Waiting time:\n",
        "\n",
        "Example: 3.2.5. Poisson approximation:\n",
        "\n"
      ],
      "metadata": {
        "id": "YhkXBCSxx6xj"
      }
    },
    {
      "cell_type": "markdown",
      "source": [
        "## Negative Binomial Distribution:\n",
        "\n",
        "- binomial - counts the num of success in a fixed number of Bernou\n",
        "- NB - count the number of Bernoulli trials required to get a fixed number of success\n",
        "\n",
        "$$P(X=x|r, p) = \\binom{x-1}{r-1}p^r (1-p)^{x-r}$$\n",
        "\n",
        "- r-1 successs in the first x-1 trails and a success on the x-th trial.\n",
        "\n",
        "$$P(Y=y)= \\binom{r+y -1}{y}p^r (1-p)^y$$ y=0,1...\n",
        "\n",
        "- mean: $E[Y]= $\n",
        "- variance: $Var[]$\n",
        "\n"
      ],
      "metadata": {
        "id": "Mkecidztx60B"
      }
    },
    {
      "cell_type": "markdown",
      "source": [
        "## Continuous Distribution:\n"
      ],
      "metadata": {
        "id": "nEQ59UAMx62e"
      }
    },
    {
      "cell_type": "markdown",
      "source": [
        "## Uniform distribution:\n",
        "\n",
        "- spreading mass uniformly over an interval [a,b]\n",
        "\n",
        "$$f(x|a,b)= $$\n",
        "- $\\frac{1}{b-1}$ if $x \\in [a, b]$\n",
        "- 0 otherwise\n",
        "\n",
        "- Mean: $E[X]= \\int_a^b \\frac{x}{b-1}dx= \\frac{b+a}{2}$\n",
        "\n",
        "- Variance: $Var[X]= \\int_a^b \\frac{(a- (\\frac{b+a}{2}))^2}{b-1}dx= \\frac{(b-a)^2}{12}$"
      ],
      "metadata": {
        "id": "svxAemXgx65L"
      }
    },
    {
      "cell_type": "markdown",
      "source": [
        "## Gamma distribution:\n",
        "\n",
        "$[0, \\infty)$\n",
        "\n",
        "$$\\Gamma(\\alpha)= \\int_0^{\\infty} t^{\\alpha - 1}e^t dt$$\n",
        "\n",
        "$\\Gamma(\\alpha + 1 \\alpha \\Gamma(\\alpha); \\alpha > 0$\n",
        "\n",
        "$\\Gamma(1)= 1$\n",
        "\n",
        "$\\Gamma(n)= (n-1)!$\n",
        "\n",
        "Gamma family:\n",
        "$$f(x|\\alpha, \\beta)= \\frac{1}{\\Gamma(\\alpha)\\beta^{\\alpha}}x^{\\alpha-1}e^{\\frac{-x}{\\beta}}$$\n",
        "- $0<x<\\infty; \\alpha>0, \\beta> 0$\n",
        "\n",
        "- $\\alpha - shape$\n",
        "- $\\beta$ - scala\n",
        "\n",
        "$$E[X]= \\frac{1}{\\Gamma(\\alpha)\\beta^{\\alpha}} \\int_{0}^{\\infty} x.x^{\\alpha-1}e^{\\frac{-x}{\\beta}}dx = \\alpha\\beta$$\n",
        "\n",
        "$$Var[X]= \\alpha \\beta^2$$\n",
        "\n",
        "$$M_X (t)= (\\frac{1}{1-\\beta t})^{\\alpha}$$\n",
        "- $t < \\frac{1}{\\beta}$\n",
        "\n",
        "ex: 3.3.1. Gamma Poisson Relationship\n",
        "\n"
      ],
      "metadata": {
        "id": "BC_cpbHOx67P"
      }
    },
    {
      "cell_type": "markdown",
      "source": [
        "## Normal Distribution:\n",
        "\n",
        "$$f(x|\\mu, \\sigma^2)= \\frac{1}{\\sqrt{2\\pi}\\sigma}e^{-\\frac{(x-\\mu)^2}{2\\sigma^2}}$$\n",
        "\n",
        "Standard Normal: $$P(X \\leq x)= P(\\frac{X-\\mu}{\\sigma} \\leq z)= P(X \\leq x\\sigma + \\mu)= \\frac{1}{\\sqrt{2\\pi}} \\int_{-\\infty}^x e^{-t^2/2}dt$$\n",
        "- $t= \\frac{x-\\mu}{\\sigma}$\n",
        "\n",
        "$E[X]= E(\\mu  + \\sigma Z)= \\mu + \\sigma E[Z]= \\mu$\n",
        "- $Var[Z]= 1$\n",
        "\n",
        "- $P(|X-\\mu| \\leq \\sigma)= P(|Z| \\leq 1)= 0.6826$\n",
        "- $P(|X-\\mu| \\leq \\sigma)= P(|Z| \\leq 2)= 0.9544$\n",
        "- $P(|X-\\mu| \\leq \\sigma)= P(|Z| \\leq 3)= 0.9974$\n",
        "\n",
        "Ex: 3.3.2. Normal Approximation\n",
        "\n",
        "\n",
        "\n"
      ],
      "metadata": {
        "id": "Ijf1mEiqx69t"
      }
    },
    {
      "cell_type": "markdown",
      "source": [
        "## Beta Distribution:\n",
        "(0,1)\n",
        "$$f(x|\\alpha, \\beta)= \\frac{1}{B(\\alpha, \\beta)}x^{\\alpha-1}(1-x)^{\\beta-1}$$\n",
        "- $0 < x< 1$\n",
        "- $\\alpha> 0, \\beta > 0$\n",
        "\n",
        "Beta function: $Bata(\\alpha, \\beta)= \\int_0^1 x^{\\alpha-1}(1-x)^{\\beta-1}dx$\n",
        "\n",
        "$B(\\alpha, \\beta)= \\frac{\\Gamma(\\alpha)\\Gamma(\\beta)}{\\Gamma(\\alpha + \\beta)}$\n",
        "\n",
        "Mean: $E[X]= \\frac{\\alpha}{\\alpha + \\beta}$\n",
        "\n",
        "$Var[X]= \\frac{\\alpha\\beta}{(\\alpha + \\beta^2)(\\alpha + \\beta + 1)}$\n",
        "\n",
        "- $\\alpha > 1, \\beta = 1$ - strictly increasing\n",
        "- $\\alpha = 1, \\beta > 1$ - strictly decreasing\n",
        "- $\\alpha < 1, \\beta < 1$ - U-shaped\n",
        "- $\\alpha > 1, \\beta > 1$ - unimodal\n",
        "- $\\alpha = \\beta$ - symetric\n"
      ],
      "metadata": {
        "id": "qbSGxtVnx6_x"
      }
    },
    {
      "cell_type": "markdown",
      "source": [
        "## Exponential Family:\n",
        "\n",
        "$$f(x|\\theta)= h(x)c(\\theta)exp[\\sum_{i=1}^k w_i (\\theta) t_i(x)]$$\n",
        "\n",
        "- h(x), $t_1(x)...t_k(x)$ - real valued function of the observation x - not depend of $\\theta$\n",
        "- $c(\\theta)\\geq 0, w_1(\\theta)...w_k (\\theta)$- real valued function of the possible vector valued parameter $\\theta$- they cannot dipend of x\n",
        "- continuous family: normal , gamma, beta\n",
        "- discrete families: binomial, poisson, negative bionomial\n",
        "\n",
        "ex: 3.4.1 Binomial exponential family\n",
        "\n",
        "ex: 3.4.4. Npormal exponential family\n",
        "\n",
        "Definiton: The indicator function of a set A, most often denoted bu $I_A(x)$ is the function:\n",
        "- $I_A(x)= $\n",
        "- $1 if x \\in A$\n",
        "- $0 if x \\notin A$\n",
        "\n",
        "Definiton: 3,4,7, A curved exponential family is a family of densitities of the form  3.4.1. for which the dimension of the vector $\\theta$ is equal to d<k. If d=k the family is a full exponential family\n",
        "\n"
      ],
      "metadata": {
        "id": "uKjXewVex7CP"
      }
    },
    {
      "cell_type": "markdown",
      "source": [
        "## Location and Scale Families:\n",
        "\n",
        "Theorem 3.5.1. Let f(x) be any pdf and let $\\mu$ and $\\sigma> 0 $ be any given constants. Then the functin:\n",
        "$$g(x|\\mu, \\sigma)= \\frac{1}{\\sigma}f(\\frac{x-\\mu}{\\sigma})$$ is a pdf\n",
        "\n",
        "Def: 3.5.2. Let f(x) be any pdf. Then the family of pddf's $f(x-\\mu)$ , indexed by the parameter $\\mu, -\\infty < \\mu < \\infty$ is called the location family with standard pdf f(x) and $\\mu$ is called the location parameter for the family\n",
        "\n",
        "Definition: 3.5.4. Let f(x) be any pdf. Then for any $\\sigma > 0$ the family of pdfs $(1\\sigma)d(\\x/\\sigma)$ indexed by the parameter $\\sigma$ is called the scale family  with standard pdf f(x) and $\\sigma$ is called the scale parameter of the family\n",
        "\n",
        "Definition: 3.5.5. Let f(x) be any pdf. Then for any $\\mu, -\\infty < \\mu > \\infty$ and any $\\sigma > 0$ the family of pdfs $(1\\sigma)f((x-\\mu)/\\sigma)$ indexed by the parametr $(\\mu, \\sigma)$ is called the location - scale family with standard pdf(x), \\mu is called the location parameter, and $\\sigma$ is called the scale parameter\n",
        "\n",
        "Theorem: 3.5.6. Let f(.) be any pdf. Let $\\mu$ be any real number, and let $\\sigma$ be any possitive real number. Then X is a random variable with pdf $(\\frac{1}{\\sigma}f(\\frac{x-\\mu}{\\sigma}))$ if and only if there exists a random variable X with pdf f(z) and X= \\sigma Z + \\mu\n",
        "\n",
        "Theorem: 3,5,7, Let Z be a random variable with pdf f(z). Suppose E[Z] and Var[Z] exist. If X is a random variable with pdf $(\\frac{1}{\\sigma}f(\\frac{x-\\mu}{\\sigma}))$ then:\n",
        "- $E[X]= \\sigma E[Z] + \\mu$\n",
        "- $Var[X]= \\sigma^2 Var[Z] $\n",
        "\n",
        "- if E[Z]= 0 and Var[Z]= 1, then E[X]= \\mu, Var[X \\sigma^2$"
      ],
      "metadata": {
        "id": "ceMCfzn-x7Eb"
      }
    },
    {
      "cell_type": "markdown",
      "source": [],
      "metadata": {
        "id": "3bleQdJax7Gp"
      }
    },
    {
      "cell_type": "markdown",
      "source": [],
      "metadata": {
        "id": "y1X2u5Kgx7Iv"
      }
    },
    {
      "cell_type": "markdown",
      "source": [],
      "metadata": {
        "id": "PCIyGwsOx7K0"
      }
    }
  ]
}
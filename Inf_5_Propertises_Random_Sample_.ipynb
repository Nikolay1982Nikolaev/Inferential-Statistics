{
  "nbformat": 4,
  "nbformat_minor": 0,
  "metadata": {
    "colab": {
      "provenance": [],
      "authorship_tag": "ABX9TyMrg7Ct5JhwW/3qCAM3Kwnh",
      "include_colab_link": true
    },
    "kernelspec": {
      "name": "python3",
      "display_name": "Python 3"
    },
    "language_info": {
      "name": "python"
    }
  },
  "cells": [
    {
      "cell_type": "markdown",
      "metadata": {
        "id": "view-in-github",
        "colab_type": "text"
      },
      "source": [
        "<a href=\"https://colab.research.google.com/github/Nikolay1982Nikolaev/Inferential-Statistics-Bicocca/blob/main/Inf_5_Propertises_Random_Sample_.ipynb\" target=\"_parent\"><img src=\"https://colab.research.google.com/assets/colab-badge.svg\" alt=\"Open In Colab\"/></a>"
      ]
    },
    {
      "cell_type": "markdown",
      "source": [
        "# 5.1. Basic Concept of Random samples:\n",
        "\n",
        "Def. 5.1.1. The r.v $X_1...X_n$ are called a random sample of size n from the population f(x) if $X_1..X_n$ are mutually independent random variables and the marginal pdf or pmf of each $X_i$ is the same function $f(x)$. ALternatively, $X_1...X_n$ are called independent and identically distributed random variables with pdf or pmf f(x). This is commopnly abbreviate to IID random variables.\n",
        "\n",
        "jpoint pdf or pmf is:\n",
        "\n",
        "$$f(x_1....x_n)= f(x_1)... f(x_n)= \\prod _{i=1}^n f(x_i)$$\n",
        "\n",
        "$$f(x_1....x_n|\\theta)= f(x_1|\\theta)... f(x_n|\\theta)= \\prod _{i=1}^n f(x_i|\\theta)$$\n",
        "\n",
        "## 5.2. Sums of Random Variables from a Random Sample\n",
        "\n",
        "Def: 5.2.1. Let $X_1..X_n$ be a random sample of size n from a population and let $T(x_1...x_n)$ be a real-valued function whose domain includes the sample space of $(X_1...X_n)$. Then the random variable or random vector $Y=T(X_1...X_n)$ is called a static. The prob distrib. of a static Y is called the sampling distribution of Y.\n",
        "\n",
        "Def: 5.2.2. The sample mean is the arithmetic average of the values in a random sample. It is usually denoted by:\n",
        "\n",
        "$$\\bar{X}= \\frac{X_1+ ...+ X_n}{n}= \\frac{1}{n} \\sum_{i=1}^n X_i$$\n",
        "\n",
        "Def: 5.2.3. The sample variance is the statistic defined by:\n",
        "\n",
        "$$S^2 = \\frac{1}{n-1} \\sum_{i=1}^n (X_i - \\bar{X})^2$$\n",
        "\n",
        "The sample standard deviation is the statistic defined by $S= \\sqrt{X^2}$\n",
        "\n",
        "Theorem: 5.2.4. Let $x_1...x_n$ be any numbers and $\\bar{x}= (x_1.+ ...+ n_x)/n$. Then\n",
        "- $min_a \\sum_{i=1}^n (x_i-a)^2= \\sum_{i=1}^n (x_i - \\bar{x})^2$\n",
        "\n",
        "- $(n-1)s^2= \\sum_{i=1}^n (x_i - \\bar{x})^2= \\sum_{i=1}^2 x_i^2 = n\\bar{x}^2$\n",
        "\n",
        "Prof:\n",
        "\n"
      ],
      "metadata": {
        "id": "nuWW0z_9Tc2z"
      }
    },
    {
      "cell_type": "markdown",
      "source": [
        "Lemma: 5.2.5. Let $X_1...X_n$ be a random sample from a population and let $g(x)$ be a function such that $E[g(X_1)]$ and $Var[g(X_1)]$ exist. Then:\n",
        "\n",
        "$$E[\\sum_{i=1}^n g(X_i)]= n (E[g(X_1)])$$\n",
        "and\n",
        "\n",
        "$$Var[\\sum_{i=1}^n g(X_i)]= n(Var[g(X_1)])$$\n",
        "\n",
        "Prof:\n",
        "\n",
        "Theorem: 5.2.6. Let $X_1..X_n$ be a random sample from a population with mean $\\mu$ and $\\sigma^2 < \\infty$\n",
        "- $E[\\bar{X}]= \\mu$\n",
        "- $Var[\\bar{X}]= \\frac{\\sigma^2}{n}$\n",
        "- $E[S^2]= \\sigma^2$\n",
        "\n",
        "Prof:\n",
        "\n",
        "\n",
        "\n",
        "- $\\bar{X}$ is an unbiased estimator for $\\mu$\n",
        "- $S^2$ is unbiased estimator for $\\sigma^2$\n",
        "\n",
        "Theorem: 5.2.7. Let $X_1..X_n$ be a random sample from a popuylation with mgf $M_X(t)$. Then the mgf of the smaple mean is:\n",
        "$$M_{\\bar{X}}(t)= [M_X(t/n)]^n$$\n",
        "\n",
        "\n",
        "Theorem: 5.2.9. If X and Y are independent continuous random variables with pdfs $f_X(x), f_Y(y)$ then the pdf of Z= X+Y is:\n",
        "$$f_Z(z)= \\int_{-\\infty}^{\\infty} f_X(w)f_Y(z-w)dw$$\n",
        "\n",
        "Theorem: 5.2.11. SUppose $X_1..X_n$ is a random sample from a pdf or pmf $f(X|theta)$ where:\n",
        "\n",
        "$$f(x|\\theta)= h(x)c(\\theta)exp(\\sum_{i=1}^k w_i(\\theta)t_i(x))$$\n",
        " is a member of an exponential family. Define statistics $T_1...T_k$ by:\n",
        "\n",
        " $$T_i(X_1...X_n)= \\sum_{j=1}^n t_i(X_j)$$i = 1...k\n",
        "\n",
        " If the set [(w_1(\\theta)... w_k(\\theta)), \\theta \\in \\Theta] contains an open subset of $R^k$ then the distribution of $(T_1..T_k)$ is an exponential family of the form:\n",
        "\n",
        " $$f_T(u_1...u_k|\\theta)= H(u_1...u_k)[c(\\theta)]^n exp(\\sum_{i=1}^k w_i(\\theta)u_i)$$\n",
        "\n",
        ""
      ],
      "metadata": {
        "id": "oDIBzgntTc5X"
      }
    },
    {
      "cell_type": "markdown",
      "source": [
        "## 5.3. Sampling of Normal Distribution:\n",
        "\n",
        "\n",
        "### Properties of the Sample Mean adn Variance:\n",
        "\n",
        "\n"
      ],
      "metadata": {
        "id": "9nFr22DlTc70"
      }
    },
    {
      "cell_type": "markdown",
      "source": [],
      "metadata": {
        "id": "Og9GH7H1Tc-I"
      }
    },
    {
      "cell_type": "markdown",
      "source": [],
      "metadata": {
        "id": "yWYLwn76TdAc"
      }
    },
    {
      "cell_type": "markdown",
      "source": [],
      "metadata": {
        "id": "n4LiJVB-TdC7"
      }
    },
    {
      "cell_type": "markdown",
      "source": [],
      "metadata": {
        "id": "LUKDk-fZTdFG"
      }
    },
    {
      "cell_type": "markdown",
      "source": [],
      "metadata": {
        "id": "cr-dpU4cTdHk"
      }
    },
    {
      "cell_type": "markdown",
      "source": [],
      "metadata": {
        "id": "sHouLFW5TdJx"
      }
    },
    {
      "cell_type": "markdown",
      "source": [],
      "metadata": {
        "id": "a-kb6TZ8TdL2"
      }
    },
    {
      "cell_type": "markdown",
      "source": [],
      "metadata": {
        "id": "s8WKROvhTdOc"
      }
    },
    {
      "cell_type": "markdown",
      "source": [],
      "metadata": {
        "id": "aodH-GFzTdQx"
      }
    },
    {
      "cell_type": "markdown",
      "source": [],
      "metadata": {
        "id": "GNMxDSsHTdSw"
      }
    },
    {
      "cell_type": "markdown",
      "source": [],
      "metadata": {
        "id": "hUlGdieITdVD"
      }
    },
    {
      "cell_type": "markdown",
      "source": [],
      "metadata": {
        "id": "AZUza3ROTdXh"
      }
    },
    {
      "cell_type": "markdown",
      "source": [],
      "metadata": {
        "id": "NzSM62r2TdZs"
      }
    },
    {
      "cell_type": "markdown",
      "source": [],
      "metadata": {
        "id": "rv8Nc7YxTdb6"
      }
    },
    {
      "cell_type": "markdown",
      "source": [],
      "metadata": {
        "id": "LykTSscuTdeW"
      }
    },
    {
      "cell_type": "markdown",
      "source": [],
      "metadata": {
        "id": "jxTmtw1vTdgk"
      }
    },
    {
      "cell_type": "markdown",
      "source": [],
      "metadata": {
        "id": "aubvnqWZTdix"
      }
    },
    {
      "cell_type": "markdown",
      "source": [],
      "metadata": {
        "id": "zbitxzvJTdku"
      }
    },
    {
      "cell_type": "markdown",
      "source": [],
      "metadata": {
        "id": "onMLitVeTdnF"
      }
    }
  ]
}
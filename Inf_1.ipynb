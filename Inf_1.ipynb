{
  "nbformat": 4,
  "nbformat_minor": 0,
  "metadata": {
    "colab": {
      "provenance": [],
      "authorship_tag": "ABX9TyOe61dNhCUW1xy1oOa5ahrg",
      "include_colab_link": true
    },
    "kernelspec": {
      "name": "python3",
      "display_name": "Python 3"
    },
    "language_info": {
      "name": "python"
    }
  },
  "cells": [
    {
      "cell_type": "markdown",
      "metadata": {
        "id": "view-in-github",
        "colab_type": "text"
      },
      "source": [
        "<a href=\"https://colab.research.google.com/github/Nikolay1982Nikolaev/Inferential-Statistics-Bicocca/blob/main/Inf_1.ipynb\" target=\"_parent\"><img src=\"https://colab.research.google.com/assets/colab-badge.svg\" alt=\"Open In Colab\"/></a>"
      ]
    },
    {
      "cell_type": "markdown",
      "source": [
        "# Probability Theory"
      ],
      "metadata": {
        "id": "dsKhJT7FG42k"
      }
    },
    {
      "cell_type": "markdown",
      "source": [
        "## 1. Set Theory\n",
        "\n"
      ],
      "metadata": {
        "id": "WFuJGIV-G45R"
      }
    },
    {
      "cell_type": "markdown",
      "source": [
        "Objective = draw coclusion about a population.\n",
        "\n",
        "1.1.1. Def: The set, S of all possible outcomes of particular experiment is called the **sample Space** for the experiment.\n",
        "\n",
        "- countable: finite number of elements\n",
        "- uncontable:\n",
        "\n",
        "Event: is any collection of possible outcomes of an experiment, that is, any subset of S (including S itself)\n",
        "\n",
        "$$A \\subset B <-> x \\in A -> x \\in B$$\n",
        "\n",
        "$$A= B <-> A \\subset B , B \\subset A$$\n",
        "\n",
        "Union: is the set of elements that belong to either A or B or both:\n",
        "$$A \\cup B = [x: x \\in A , or, x \\in B]$$\n",
        "\n",
        "Intersection: is the set of elements that belong to both A and B\n",
        "$$A \\cap B = [x: x\\in A, and, x \\in B]$$\n",
        "\n",
        "Complementation: is the set of all elements are not in A\n",
        "$$A^c = [x: x ∉ A]$$\n",
        "\n",
        "Theorem: for any there events A,B,C defined on a sample space S:\n",
        "- commutativity:\n",
        "$$A \\cup B= B \\cup B$$\n",
        "$$A \\cap B = B \\cap A$$\n",
        "- associativity: $$A \\cup (B \\cup C)= (A \\cup B ) \\cup C$$\n",
        "$$A \\cap (B \\cap C)= (A \\cap B ) \\cap C$$\n",
        "\n",
        "Distribution Laws:\n",
        "$$A \\cap (B \\cup C) = (A \\cap B) \\cup (A \\cap C) $$\n",
        "$$A \\cup (B \\cap C) = (A \\cup B) \\cap (A \\cup C) $$\n",
        "\n",
        "De Morgan's Laws:\n",
        "$$(A \\cup B)^c = A^c \\cap B^c$$\n",
        "$$(A \\cap B)^c = A^c \\cup B^c$$\n",
        "\n",
        "Prof:\n",
        "\n"
      ],
      "metadata": {
        "id": "IJV4Nxx8G47z"
      }
    },
    {
      "cell_type": "markdown",
      "source": [
        "Definition: Two event A and B are *disjoint* (o mutually exclusive) if $A\\cap B= ∅$. The events $A_1,A_2...$ are *pairwise disjoint* (or mutually exclusive) if $A_i \\cap A_j= ∅$ for all $i \\ne j$\n",
        "\n",
        "Definition: If $A_1, A_2...$ are [airwise disjoint and $U_{i=1}^{\\infty} A_i = S$ then the collection $A_1,A_2...$ forms a *partition* of S\n",
        "\n"
      ],
      "metadata": {
        "id": "JdfVuZ4hG4-x"
      }
    },
    {
      "cell_type": "markdown",
      "source": [
        "## 2. Basic of Probability Theory:\n",
        "\n",
        "1. Axiomatic Fondations:\n",
        "\n",
        "domain: the set where the arguments of the function P() are defined\n",
        "\n",
        "Definition: A collection of subsets of S is called a sigma algebra (or Borel field) dempted by $B'$ if it satisfies the following three properties:\n",
        "- $∅ \\in B'$ - the empty set is an element fo B'\n",
        "- if $A \\in B$ then $A^c \\in B'$ (B' is close under complementation)\n",
        "- if $A_1,A_2... \\in B'$ then $U_{i=1}^{\\infty} A_i \\in B'$ - B' is closed under contable unions\n",
        "\n",
        "Deinition: Probability function: given a sample space S and an associated sigma algebra B', a probability function is a function P with domain B' that satisfies:\n",
        "1. $P(A) \\geq 0$ for all $a \\in B'$\n",
        "2. $P(S)= 1$\n",
        "3. if $A_1,A_2... \\in B'$ are pairwise disjoint, then $P(U_{i=1}^{\\infty} A_i = \\sum_{i=1}^{infty} P(A_i))$\n",
        "\n",
        "Theorem 1.2.6.: Let $S= [s_1..s_n]$ be a finite set. Let B' be any sigma albegba of subset of S. Let $p_1...p_n$ be nonnegative numbers that sum to 1. For any $A \\in B'$ define $P(A)$ by:\n",
        "$$P(A)= \\sum_{i:s_i \\in A} p_i$$\n",
        "\n",
        "The sum over an empty set is defined to be 0. Then P is a probability function on B'. This remains true if $S=[s_1...s_n]$ is contable set\n",
        "\n",
        "Prof:\n",
        "\n",
        "\n",
        "Axiom of Finite Additivity: if $A \\in B'$ and $B \\in B'$ are disjoint, then $$P(A \\cup B)= P(A) + P(B)$$\n",
        "\n",
        "\n",
        "\n"
      ],
      "metadata": {
        "id": "ECfZf6cNG5A9"
      }
    },
    {
      "cell_type": "markdown",
      "source": [
        "## 1.2.2. Calculus of Probability:\n",
        "\n",
        "Theorem: 1.2.8. If P is aprobability function and A is any set in B' , then\n",
        "1. $P(∅)= 0$ where $∅$ is the empty set\n",
        "2. $P(A) \\leq 1$\n",
        "3. $P(A^c) = 1- P(A)$\n",
        "\n",
        "prof:\n",
        "\n",
        "Theorem: 1.2.9. If P is a probability function and A and B are any sets in B', then\n",
        "1. $P(B \\cap A^c)= P(B)- P(A \\cap B)$\n",
        "2. $P(A \\cup B)= P(A) + P(B) - P(A \\cap B)$\n",
        "3. if $A \\subset B$ then $P(A) \\leq P(B)$\n",
        "\n",
        "Prof:\n",
        "\n",
        "Ex.1.2.10 Bonferoni's Inequality:\n",
        "\n",
        "\n",
        "Theorem: 1.2.11: If P is a probability function , then:\n",
        "1. $P(A)= \\sum_{i=1}^{\\infty} P(A \\cap C_i)$ for any partition $C_1,C_2 ...$\n",
        "2. $P(U_{i=1}^{\\infty} A_i) \\leq \\sum_{i=1}^{\\infty} P(A_i)$ for any sets $A_1,A_2...$ - Boole's Inequality\n",
        "\n",
        "Proof:\n",
        "\n"
      ],
      "metadata": {
        "id": "Gq2KQR2wG5DD"
      }
    },
    {
      "cell_type": "markdown",
      "source": [
        "## 1.2.4. Counting:\n",
        "\n",
        "Theorem: 1.2.14. If a job consists of k separate tasks, the i-th of which can be done in $n_i$ ways i=1...k then the entire job be done in $x_1*x_2*...*n_k$ ways\n",
        "\n",
        "prof:\n",
        "\n",
        "Def: 1.2.16: For a positive integer n, n! - factorial is the product of all possible of the positive integers less than or equal to n. That is:\n",
        "$$n! = x*(n-1)*(n-2)*...*3*2*1$$\n",
        "\n",
        "Furthermore, we define $0! = 1$\n",
        "\n",
        "Posible lotery ticket\n",
        "1. Ordered, without replacement: $$50*49*48...* 46= \\frac{50!}{!45}$$ * 6- for the Swiss\n",
        "\n",
        "2. Ordered, with replacement: since each number can now be selected in 44 ways , there are:\n",
        "$$50*50*50*50*50= 50^5$$\n",
        "\n",
        "3. Unordered , without replacement:\n",
        "\n",
        "$$\\frac{50*49*48*47*46}{5*4*3*2*1}= \\frac{50!}{5! 45!}$$\n",
        "\n",
        "Definition: 1.2.17: for nonnegative integers n anr r , where $n \\geq r$, we define the symbol $\\binom{n}{r}$ read n-choose r, as\n",
        "\n",
        "$$\\binom{n}{r}= \\frac{n!}{r!(n-r!)}$$\n",
        "\n",
        "4. Unordered, with replacement: most difficult:\n",
        "\n",
        "$$\\binom{n + r -1}{r}$$\n",
        "\n"
      ],
      "metadata": {
        "id": "7taxuDGAG5Fx"
      }
    },
    {
      "cell_type": "markdown",
      "source": [
        "## 1.2.4. Enumerating Outcomes:\n",
        "\n",
        "- S - is a finte set $S = [s_1...S_N]$\n",
        "- all the outcomes in S are equally likely: $P([s_i]) = 1/N$ for every outcome $s_i$\n",
        "\n",
        "def 1.2.4 = $$P(A)= \\sum_{s_i \\in A} P([s_i])= \\sum_{s_i \\in A} \\frac{1}{n} \\frac{\\# of lements in A}{\\# of elements in S}$$\n",
        "\n",
        "Exaple: Poker 1.2.18\n",
        "\n",
        "example: 1.2.19: sampling with replacement\n",
        "\n",
        "example: 1.2.20 Calculating an average\n",
        "\n",
        "\n",
        "\n"
      ],
      "metadata": {
        "id": "MLsAO4wSG5IL"
      }
    },
    {
      "cell_type": "markdown",
      "source": [
        "## 1.3. Conditional Probability and Indepepndence\n",
        "\n",
        "Definition 1.3.2. if A and B are events in S, and $P(B)> 0$ then the conditional probability of A given B is:\n",
        "$$P(A|B)= \\frac{P(A \\cap B)}{P(B)}$$\n",
        "\n",
        "- $P(B|B)= 1$\n",
        "- dosjooint A and B: $P(A \\cap B)= 0$ -> $P(A|B)= P(B|A)= 0$\n",
        "\n",
        "\n",
        "Theorem: 1.3.6. Bayes Rule: Let $A_1,A_2...$ be a partition of the sample space, and let B be any set. Then for each i=1,2...\n",
        "\n",
        "$$P(A_i|B)= \\frac{P(B|A_i)P(A)}{\\sum_{j=1}^{\\infty}P(B|A_j)P(A_j)}$$\n",
        "\n",
        "Example.1.3.6. Coding:\n",
        "\n",
        "Definition: 1.3.7. Two events, A and B, are statically independent if:\n",
        "$$P(A \\cap B)= P(A)P(B)$$\n",
        "\n",
        "Theorem: Independence of A and B implies independence of the complements also.\n",
        "\n",
        "If A and B are indepedent eventss, then the following p[airs are also independent:\n",
        "- $A and B^c$\n",
        "- $A^c and B$\n",
        "- $A^c and B^c$\n",
        "\n",
        "prof:\n",
        "\n"
      ],
      "metadata": {
        "id": "HI7ICtlNG5Kh"
      }
    },
    {
      "cell_type": "markdown",
      "source": [
        "Definition 1.3.12: A collection of events $A_1...A_n$ are mutually independent if for any subcollection $A_{i1}...{A_{i_k}}$ we have:\n",
        "$$P(\\bigcap_{j=1}^k A_{i_j})= \\prod_{j=1}^k P(A_{i_j})$$"
      ],
      "metadata": {
        "id": "xLYF1hF_G5M9"
      }
    },
    {
      "cell_type": "markdown",
      "source": [
        "## 1.4. Random Varibles:\n",
        "\n",
        "In defining the quantity X, we have defined a mapping (a function) from the original sample space to a new sample space.\n",
        "\n",
        "Definition: 1.4.1. A random variable is a function from a sample space  S into the real number\n",
        "\n",
        "toss two dice - X=sum ot the numbners\n",
        "25 toss a coin - x= number of heads in 25 tosses\n",
        "\n",
        "Ex: 1,4,4, distribution of a random variable\n"
      ],
      "metadata": {
        "id": "lJ0p338pG5Pk"
      }
    },
    {
      "cell_type": "markdown",
      "source": [
        "## 1.5. Distribution Function:\n",
        "\n",
        "With every r.v X we associate a function called the CDF of X\n",
        "\n",
        "Def: 1.5.1. The CDF - cumulative distribution function of a r.v. X denoted by $F_X(x)$ is defined by\n",
        "$$F_X(x)= P_X(X\\leq x)$$ for all x\n",
        "\n",
        "\n",
        "Theorem: 1.5.3. The function F(x) is a cdf if and only if the following three conditions hold:\n",
        "1. $lim_{x->-\\infty} F(x)= 0$ and $lim_{x-> \\infty}F(x)= 1$\n",
        "2. F(x) is a nondecreasing function of x\n",
        "3. F(x) is right-continuous , that is, for every number $x_0, lim_{x|x_o} F(x)= F(x_0)$\n",
        "\n",
        "Prof:\n",
        "\n",
        "Definition: 1.5.7. A random variable X is continuous if F_X(x) is acontinuos function of x. A rrandom variable X is discete if $F_X(x)$ is a step funcion of x\n",
        "\n",
        "Definiton: 1.5.8. The random variables X and Y are identically distribuited if, dor every set $A \\in B'^1, P(X\\in A)= P(Y \\in A)$\n",
        "\n",
        "- Two r.v that are identically distribuited are not necessarly equal.\n",
        "\n",
        "Theorem: 1.5.10 The following two statements are equivalent:\n",
        "1. The r.v. X and Y are identically distribuited\n",
        "2. $F_X(x)= F_Y(x)$ for every x\n",
        "\n"
      ],
      "metadata": {
        "id": "XN7uRoL5G5R3"
      }
    },
    {
      "cell_type": "markdown",
      "source": [
        "## 1..6. Density and Mass Functions:\n",
        "\n",
        "Def: 1.6.1. The prob.mass function pmf of a dioscrete r.v. X is given by:\n",
        "\n",
        "$$f_X(x)= P(X=x)$$ for all x\n",
        "\n",
        "Example: 1.6.2. Geometric prob\n",
        "\n",
        "Def: 1.6.3. The probability density function or pdf, $f_X(x)$ of a continuos random variable X is the function that satisfies\n",
        "$$F_X(x)= \\int_{-\\inf}^x f_X (t) dt$$ for all x\n",
        "\n",
        "$\\sim$ - distribuited as\n",
        "\n",
        "ex: 1.6.4. Logistic probabilities:\n",
        "\n",
        "Theorem: 1.6.5. A function $f_X(x)$ is a pdf/pmf of a r.v X if and only if:\n",
        "1. $f_X(x) \\geq 0$ for all x\n",
        "2. $\\sum_x f_X(x)= 1$ pmf / $\\int_{-\\infty}^{\\infty} f_X (x)dx = 1$ - pdf\n",
        "\n",
        "prof\n",
        "\n"
      ],
      "metadata": {
        "id": "y_E3F2jLG5UO"
      }
    },
    {
      "cell_type": "markdown",
      "source": [
        "## Bonferoni in Miscelation:\n",
        "\n",
        "\n"
      ],
      "metadata": {
        "id": "SRLImKtsG5Y3"
      }
    },
    {
      "cell_type": "markdown",
      "source": [],
      "metadata": {
        "id": "GpQ7PEe-G5bb"
      }
    },
    {
      "cell_type": "markdown",
      "source": [],
      "metadata": {
        "id": "Trk1p7GvG5g9"
      }
    },
    {
      "cell_type": "markdown",
      "source": [],
      "metadata": {
        "id": "91D1rPzaG5je"
      }
    },
    {
      "cell_type": "markdown",
      "source": [],
      "metadata": {
        "id": "dkas64sxG5l_"
      }
    },
    {
      "cell_type": "markdown",
      "source": [],
      "metadata": {
        "id": "aPyWRNfWG5or"
      }
    },
    {
      "cell_type": "markdown",
      "source": [],
      "metadata": {
        "id": "FR3vYmYcG5rB"
      }
    },
    {
      "cell_type": "markdown",
      "source": [],
      "metadata": {
        "id": "Fn5PK-wKG5uG"
      }
    }
  ]
}
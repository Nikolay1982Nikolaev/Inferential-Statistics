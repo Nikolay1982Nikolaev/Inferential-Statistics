{
  "nbformat": 4,
  "nbformat_minor": 0,
  "metadata": {
    "colab": {
      "provenance": [],
      "authorship_tag": "ABX9TyOM9t4VEXF34hISnidzfUiW",
      "include_colab_link": true
    },
    "kernelspec": {
      "name": "python3",
      "display_name": "Python 3"
    },
    "language_info": {
      "name": "python"
    }
  },
  "cells": [
    {
      "cell_type": "markdown",
      "metadata": {
        "id": "view-in-github",
        "colab_type": "text"
      },
      "source": [
        "<a href=\"https://colab.research.google.com/github/Nikolay1982Nikolaev/Inferential-Statistics-Bicocca/blob/main/Inf6.ipynb\" target=\"_parent\"><img src=\"https://colab.research.google.com/assets/colab-badge.svg\" alt=\"Open In Colab\"/></a>"
      ]
    },
    {
      "cell_type": "markdown",
      "source": [
        "# Principles of Data Reduction\n",
        "\n",
        "Any statistic T(X), defines a form of data reduction or data summary.\n",
        "\n",
        "The Likelihood Priciples describes a function of the parameter, determine by the observed sample, that contains all the information about $\\theta$ that is available from the sample.\n",
        "\n",
        "## The sufficency Principle:\n",
        "\n",
        "Sufficient statistics: for parameter $\\theta$ is statistic that, in a certain sense, capture all the information about $\\theta$ contained in the sample.\n",
        "\n",
        "Any additional information in the sample, besides the value of the sufficient statistic, does not contain any more information about $\\theta$.\n",
        "\n",
        "Sufficient pronciiple: If T(X) is a sufficnet statistic for $\\theta$ , then any inderence about $\\theta$ should depend on the sample X only through the value T(X). That is, if x any y are two sample points such that T(x)= T(y), then the inference about $\\theta$ should be the same whether X=x or X=y is observed.\n",
        "\n",
        "6.2.1. Sufficient statistics:\n",
        "\n",
        "Definition: 6.2.1. A stat T(X) is a sufficient statistic for $\\theta$ if the conditional distribution of the sample X given the value of T(X) does not depend of $\\theta$\n",
        "\n",
        "if T(X) has a continuous distribution then $P_{\\theta}(T(X)= t)= 0$ fir all value of t.\n",
        "\n",
        "Theorem: 6.2.2. If $p(x|\\theta)$ is the joint pdf or pmf of X and $q(t|\\theta)$ is the pdf or pmf of T(X), then T(X) is a sufficient statistic for $\\theta$, if for every x in the sample space the ratio $\\frac{p(x|\\theta)}{q(T(x)|\\theta)}$ is  constant as a function of $\\theta$\n",
        "\n",
        "\n",
        "Example: 6.2.3. Binomial sufficient statistic\n",
        "\n",
        "Example 6.2.4. Normal sufficient statistic\n",
        "\n",
        "Example: sufficient order statistics\n",
        "\n",
        "Factorization theorem: 6.2.6. Let $f(x|\\theta)$ denote the joint pdf or pmf of a sample X. A stetistic T(X) is asufficient statistic for $\\theta$  if and only if there exist functions $g(t|\\theta)$ and $h(x)$ such that, for all sample points x and all parameter points $\\theta$\n",
        "\n",
        "$$f(x|\\theta)= g(T(x)|\\theta)h(x)$$\n",
        "\n",
        "Proof:\n",
        "\n",
        "example 6.2.7.\n",
        "\n",
        "example: 6.2.8. Uniform sufficient statistic\n",
        "\n",
        "example 6.2.9. Normal sufficent statistic, both parameter unknown\n",
        "\n",
        "Theorem 6.2.10. Let $X_1..X_n$ be IID observ ations from a pdf or pmf $f(x|\\theta)$ that belongs to an exponential family given by:\n",
        "\n",
        "$$f(x|\\theta)= h(x)c(\\theta) exp[\\sum_{i=1}^k w_i(\\theta) t_i(x)]$$\n",
        "\n",
        "where $\\theta= (\\theta_1...,\\theta_n)$ $d\\leq k$. Then\n",
        "\n",
        "$$T(X)= (\\sum_{j=1}^n t_1(X_j),....\\sum_{j=1}^n t_k(X_j)) $$ is a suffcient statistic for $\\theta$\n",
        "\n"
      ],
      "metadata": {
        "id": "WbmGa_gMt5Wi"
      }
    },
    {
      "cell_type": "markdown",
      "source": [
        "6.2.2. Minimal Sufficient Styatistics\n",
        "\n",
        "Definition: 6.2.11. A sufficient statist T(X) is caled a minimal suff.stat if, for any other sufficient statistic $T'(X), T(x)$ is a function of $T'(x)$\n",
        "\n",
        "Example: 6.2.12. Two normal sufficient statistics\n",
        "\n",
        "Theorem: Let $f(x|\\theta)$ be the pdf or pmf of a sample X. Suppose there exists a function T(x) such that,for every two sampl points x and y , the ratio $f(x|\\theta) / f(y|\\theta)$ is constant as a function of $\\theta$ if and only if T(x)= T(y). Then T(X) is a minimal sufficient statistic for $\\theta$.\n",
        "\n",
        "Proof:\n",
        "\n",
        "example: Normal niminal sufficient statist\n",
        "\n",
        "example: 6.2.15: Uniform minimal sufficient statistic\n",
        "\n"
      ],
      "metadata": {
        "id": "ThgM72CZt5ZV"
      }
    },
    {
      "cell_type": "markdown",
      "source": [
        "6.2.3. Ancillary statistics\n",
        "\n",
        "Def: 6.2.16: A stat S(X) whose distributions does not depend on the parameter $\\theta$ is called an ancillary statistic.\n",
        "\n",
        "example: 6.2.17: Uniform ancillary statistic\n",
        "\n",
        "example: 6.2.18: Location family ancillary statistic\n",
        "\n",
        "example: 6.2.19 Scale family ancillary statisti\n",
        "\n"
      ],
      "metadata": {
        "id": "WaIAYpYft5bz"
      }
    },
    {
      "cell_type": "markdown",
      "source": [
        "6.2.4. Sufficient, Ancillary and COmplete Statisitic\n",
        "\n",
        "example: 6.2.20 ANcillary precision\n",
        "\n",
        "Definition: Let $f(t|\\theta)$ be a family of pdfs or pdfs for a statistic T(X) . The family of probability distributions is called complete if $E_{\\theta}[g(T)]= 0$ for all $\\theta$ implies $P_{\\theta}(g(T)= 0)= 1$ for all $\\theta$. Equivalently, T(X) is called a complete statisc\n",
        "\n",
        "Exa: 6.2.22. Binomial complete sufficient statistic\n",
        "\n",
        "Exam: 6.2.23: Uniform complete sufficinet stat\n",
        "\n",
        "Theorem 6.2.24: Basu: If T(X) is a complete and minimal sufficinet statistic, then T(X) is independent of every ancillary statistic.\n",
        "\n",
        "Proof:\n",
        "\n",
        "Theorem: 6.2.25: Complete statistics in the exponential family: let $X_1..X_n$ be iid observations from an exponential family with pdf or pmf of the form:\n",
        "\n",
        "$$f(x|\\theta)= h(x)c(\\theta) exp[\\sum_{i=1}^k w_i(\\theta) t_i(x)]$$\n",
        "\n",
        "where $\\theta= (\\theta_1....\\theta_k)$. hen the statistic\n",
        "\n",
        "$$T(X)= (\\sum_{i=1}^n t_1(X_i))... \\sum_{i=1}^n t_k(X_i))$$\n",
        "\n",
        "is colete as long as the parameter space $\\Theta$ contains an open set in $R^2$\n",
        "\n",
        "example 6.2.26: using Basu Theorem:\n",
        "\n",
        "example: 6.2.27\n",
        "\n",
        "Theorem: 6.2.28: if a minimal sufficient statistic exists, then any complete statisti is also a minimal sufficient statistic\n",
        "\n"
      ],
      "metadata": {
        "id": "4b5OJ0-Lt5eQ"
      }
    },
    {
      "cell_type": "markdown",
      "source": [
        "The Likelihood Principles:\n",
        "\n",
        "Def: 6.3.1. Let $f(x|\\theta)$ denote the joint pdf or pmf of the sample $X=(X_1..X_n)$. Then given that X=x is observed, the function of $\\theta$ defined by\n",
        "\n",
        "$$L(\\theta|x)= f(x|\\theta)$$\n",
        "\n",
        "is called the likelihood function\n",
        "\n",
        "Ex 6.3.2.: Negative binomial likelihood\n",
        "\n",
        "LIKELIHOOD PRINCIPLE: if x and y are two sample points such that $L(\\theta|x)$ is proportional to $L(\\theta|y)$ that is , there exists a constant C(x, y) such that:\n",
        "\n",
        "$$L(\\theta|x)= C(x, y) L(\\theta|y)$$ for all $\\theta$, then the conlusions drawn from x and y should be identical.\n",
        "\n",
        "Ex: 6.3.3. Normal fiducial distribution\n",
        "\n"
      ],
      "metadata": {
        "id": "LLSK8-nat5gm"
      }
    },
    {
      "cell_type": "markdown",
      "source": [
        "6.3.2. Formnal Likelihood principle\n",
        "\n",
        "6.4. Equivalence Principle\n"
      ],
      "metadata": {
        "id": "NelJ55DCt5jJ"
      }
    },
    {
      "cell_type": "markdown",
      "source": [],
      "metadata": {
        "id": "2add_VfTt5lX"
      }
    },
    {
      "cell_type": "markdown",
      "source": [],
      "metadata": {
        "id": "GGVvLUzYt5nt"
      }
    },
    {
      "cell_type": "markdown",
      "source": [],
      "metadata": {
        "id": "_biVZ_SLt5qB"
      }
    },
    {
      "cell_type": "markdown",
      "source": [],
      "metadata": {
        "id": "QoPw5iFWt5sf"
      }
    },
    {
      "cell_type": "markdown",
      "source": [],
      "metadata": {
        "id": "irTp45Hst5uz"
      }
    },
    {
      "cell_type": "markdown",
      "source": [],
      "metadata": {
        "id": "8JI0YWkut5xT"
      }
    },
    {
      "cell_type": "markdown",
      "source": [],
      "metadata": {
        "id": "pnwsmXNit5zl"
      }
    },
    {
      "cell_type": "markdown",
      "source": [],
      "metadata": {
        "id": "A9N5tBP-t52E"
      }
    },
    {
      "cell_type": "markdown",
      "source": [],
      "metadata": {
        "id": "1dnpOW5tt54f"
      }
    },
    {
      "cell_type": "markdown",
      "source": [],
      "metadata": {
        "id": "immVIS0gt561"
      }
    },
    {
      "cell_type": "markdown",
      "source": [],
      "metadata": {
        "id": "N590PptEt59h"
      }
    },
    {
      "cell_type": "markdown",
      "source": [],
      "metadata": {
        "id": "uNCwzhFvt5_-"
      }
    },
    {
      "cell_type": "markdown",
      "source": [],
      "metadata": {
        "id": "qDNjYJx2t6Cs"
      }
    },
    {
      "cell_type": "markdown",
      "source": [],
      "metadata": {
        "id": "cwJDEUpit6E_"
      }
    },
    {
      "cell_type": "markdown",
      "source": [],
      "metadata": {
        "id": "Ms3G0cXIt6Hd"
      }
    },
    {
      "cell_type": "markdown",
      "source": [],
      "metadata": {
        "id": "G49AyO0_t6KJ"
      }
    },
    {
      "cell_type": "markdown",
      "source": [],
      "metadata": {
        "id": "IssJdH-8t6Mf"
      }
    },
    {
      "cell_type": "markdown",
      "source": [],
      "metadata": {
        "id": "8nrILiavt6O8"
      }
    },
    {
      "cell_type": "markdown",
      "source": [],
      "metadata": {
        "id": "Icsf8eETt6Rf"
      }
    },
    {
      "cell_type": "markdown",
      "source": [],
      "metadata": {
        "id": "sfh4OhHBt6Tu"
      }
    }
  ]
}
{
  "nbformat": 4,
  "nbformat_minor": 0,
  "metadata": {
    "colab": {
      "provenance": [],
      "authorship_tag": "ABX9TyNmU0lQBYFZ56KpiIV5TUK4",
      "include_colab_link": true
    },
    "kernelspec": {
      "name": "python3",
      "display_name": "Python 3"
    },
    "language_info": {
      "name": "python"
    }
  },
  "cells": [
    {
      "cell_type": "markdown",
      "metadata": {
        "id": "view-in-github",
        "colab_type": "text"
      },
      "source": [
        "<a href=\"https://colab.research.google.com/github/Nikolay1982Nikolaev/Inferential-Statistics-Bicocca/blob/main/Lec_8_.ipynb\" target=\"_parent\"><img src=\"https://colab.research.google.com/assets/colab-badge.svg\" alt=\"Open In Colab\"/></a>"
      ]
    },
    {
      "cell_type": "markdown",
      "source": [
        "# Hypothesis Testing\n",
        "\n",
        "Def: A hypothesis is a statement about a population parameter\n",
        "\n",
        "def: 8.1.2. The two complementary hypothesis testing problem are called the $H_0$ and the $H_1$. They are denoted...\n",
        "\n",
        "Def: A hypothesis testing procedure or hypothesis test is a rule that specifies:\n",
        "- for which sample values the devision is made to accept $H_0$ as true\n",
        "- for which sample values $H_0$ is rejected and $H_1$ is accpeted as true\n",
        "\n",
        "- rejection region or critical rejion\n",
        "\n",
        "## 8.2. Methods of FInding Test\n",
        "\n",
        "8.2.1. Likelihood Ratio Test\n",
        "\n",
        "$$L(\\theta|x_1...x_n)= L(\\theta|x)= f(x|\\theta)= \\prod_{i=1}^n f(x_i|\\theta)$$\n",
        "\n",
        "Definition: 8.2.1. The likelihood ratio test statistic for testing $H_0: \\theta \\in \\Theta_0$ versus $H_1: \\theta \\in \\Theta_o^c$\n",
        "\n",
        "$$\\lambda(x)= \\frac{sup_{\\theta_0}L(\\theta_x)}{sup_{\\theta}L(\\theta|x)} $$\n",
        "\n",
        "LRT is any test that has a rejection region of the form $[x: \\lambda(x) \\leq c]$ where c is any number satisfying $0 \\leq c \\leq 1$\n",
        "\n",
        "Example: 8.2.2. Normal LRT\n",
        "\n",
        "Example: 8.2.3. Exponential LRT\n",
        "\n",
        "Theorem 8.2.4. If T(X) is a sufficient statistic for $\\theta$ and $\\lambda^*(t)$\n",
        " and $\\lambda(x)$ are the LRT statistic based on T and X, respectively , then $\\lambda^*(T(x))= \\lambda(x)$ for every x in the sample space.\n",
        "\n",
        "Proof:\n",
        "\n",
        "Example: 8.2.6. Normal LRT , with unknown variance\n",
        "\n",
        "\n",
        "\n",
        "\n"
      ],
      "metadata": {
        "id": "ag4pz18kaQZj"
      }
    },
    {
      "cell_type": "markdown",
      "source": [
        "## Bayesian Tests:\n",
        "\n",
        "Ex 8.2.7. Normal Bayesian test\n",
        "\n"
      ],
      "metadata": {
        "id": "Ry5TLKAoaQcY"
      }
    },
    {
      "cell_type": "markdown",
      "source": [
        "8.2.3. Union-Intersection and Intersection Union test\n",
        "\n",
        "$H_0: \\theta \\in ⋂_{\\gamma \\in Γ} \\Theta_{\\gamma}$\n",
        "\n",
        "Ex: 8.2.8. Normal union -intersection test\n",
        "\n",
        "Ex 8.2.9. Aceptance sampling\n",
        "\n"
      ],
      "metadata": {
        "id": "b556Pmz0aQfK"
      }
    },
    {
      "cell_type": "markdown",
      "source": [
        "## 8.2. Method of Evaluating Tests\n",
        "\n",
        "8.3.1. Error Probabilities and the Power Function\n",
        "\n",
        "Def: the power function of a hyp.test with rejection region R is the function of $\\theta$ defined by $\\beta(\\theta)= P_{\\theta}(X \\in R)$\n",
        "\n",
        "Ex: 8.3.2. Binomial power function\n",
        "\n",
        "Ex. 8.3.3. Normal power function\n",
        "\n",
        "Def: 8.3.5. For $0 \\leq \\alpha \\leq 1$ a test wit power function $\\beta(\\theta)$ is a size $\\alpha$ test if $sup_{\\theta \\in \\Theta_0}\\beta(\\theta)= \\alpha$\n",
        "\n",
        "\n"
      ],
      "metadata": {
        "id": "LjYeLYpSaQh4"
      }
    },
    {
      "cell_type": "markdown",
      "source": [],
      "metadata": {
        "id": "_OvqiVa9aQkd"
      }
    },
    {
      "cell_type": "markdown",
      "source": [],
      "metadata": {
        "id": "axGaTkonaQnD"
      }
    },
    {
      "cell_type": "markdown",
      "source": [],
      "metadata": {
        "id": "eZsuFmWQaQpu"
      }
    },
    {
      "cell_type": "markdown",
      "source": [],
      "metadata": {
        "id": "mov6j_GTaQsT"
      }
    },
    {
      "cell_type": "markdown",
      "source": [],
      "metadata": {
        "id": "I7oeu5kBaQxO"
      }
    },
    {
      "cell_type": "markdown",
      "source": [],
      "metadata": {
        "id": "pNgdGKIlaQz0"
      }
    },
    {
      "cell_type": "markdown",
      "source": [],
      "metadata": {
        "id": "n4uEISGjaQ2u"
      }
    },
    {
      "cell_type": "markdown",
      "source": [],
      "metadata": {
        "id": "ntr0dhVGaQ5S"
      }
    },
    {
      "cell_type": "markdown",
      "source": [],
      "metadata": {
        "id": "zNaCsyBNaQ8J"
      }
    },
    {
      "cell_type": "markdown",
      "source": [],
      "metadata": {
        "id": "L0P3JOI4aQ-s"
      }
    },
    {
      "cell_type": "markdown",
      "source": [],
      "metadata": {
        "id": "ecGrKPDhaRBY"
      }
    },
    {
      "cell_type": "markdown",
      "source": [],
      "metadata": {
        "id": "4sdUVHwvaRD3"
      }
    },
    {
      "cell_type": "markdown",
      "source": [],
      "metadata": {
        "id": "gMFw-BrDaRGj"
      }
    },
    {
      "cell_type": "markdown",
      "source": [],
      "metadata": {
        "id": "vm4QqxtAaRJW"
      }
    },
    {
      "cell_type": "markdown",
      "source": [],
      "metadata": {
        "id": "upXkB4iWaRL8"
      }
    },
    {
      "cell_type": "markdown",
      "source": [],
      "metadata": {
        "id": "FyA3IccmaROo"
      }
    },
    {
      "cell_type": "markdown",
      "source": [],
      "metadata": {
        "id": "IUmliohzaRQ-"
      }
    },
    {
      "cell_type": "markdown",
      "source": [],
      "metadata": {
        "id": "Fli9aiduaRTM"
      }
    },
    {
      "cell_type": "markdown",
      "source": [],
      "metadata": {
        "id": "Qgdqf2IeaRV5"
      }
    },
    {
      "cell_type": "markdown",
      "source": [],
      "metadata": {
        "id": "sela0tCEaRYl"
      }
    },
    {
      "cell_type": "markdown",
      "source": [],
      "metadata": {
        "id": "MUm3oaBnaRbZ"
      }
    }
  ]
}
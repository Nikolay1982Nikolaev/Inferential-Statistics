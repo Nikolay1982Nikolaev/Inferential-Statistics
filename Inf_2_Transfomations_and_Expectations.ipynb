{
  "nbformat": 4,
  "nbformat_minor": 0,
  "metadata": {
    "colab": {
      "provenance": [],
      "authorship_tag": "ABX9TyNOkqAEhX+QKrtqO1F0pEsZ",
      "include_colab_link": true
    },
    "kernelspec": {
      "name": "python3",
      "display_name": "Python 3"
    },
    "language_info": {
      "name": "python"
    }
  },
  "cells": [
    {
      "cell_type": "markdown",
      "metadata": {
        "id": "view-in-github",
        "colab_type": "text"
      },
      "source": [
        "<a href=\"https://colab.research.google.com/github/Nikolay1982Nikolaev/Inferential-Statistics-Bicocca/blob/main/Inf_2_Transfomations_and_Expectations.ipynb\" target=\"_parent\"><img src=\"https://colab.research.google.com/assets/colab-badge.svg\" alt=\"Open In Colab\"/></a>"
      ]
    },
    {
      "cell_type": "markdown",
      "source": [
        "Techniques to gain information about function X\n",
        "\n",
        "2.1. Distribution of Functions of a Random variable\n",
        "\n",
        "if X is a random v with cdf F(x) then any function nof X, g(X) is also r.v.\n",
        "\n",
        "- the new random var is Y=g(X)\n",
        "\n",
        "$$P(Y \\in A) = P(g(X) \\in A)$$\n",
        "\n",
        "Inverse mapping: $g^{-1}(y)= (g(x)=y)$\n",
        "\n",
        "$$f(y)= P(Y=y)= \\sum_{g^{-1}(y)} P(X=x)= \\sum_{g^{-1}(y)} f(x)$$\n",
        "\n",
        "2.1.1. binomial transformation:\n",
        "\n",
        "2.1.2. Uniform Transformation\n",
        "\n",
        "support of distribution, any nonnegative function\n",
        "\n",
        "g(x) monotone:\n",
        "- $u > v -> g(u) > v(u)$ - inreasing\n",
        "- $u < v -> g(u) > v(u)$ - decreasing\n",
        "\n",
        "i the transformation x-> g(x) is monotone, then it is one-to one and onto from X->Y\n",
        "\n",
        "$$F_Y (y) = F_X (g^{-1}(y))$$\n",
        "\n",
        "Theorem: 2.1.3. Let X have cdf $F_X(x)$ , let $Y=g(X)$ and let X' and Y' be defined as in 2.1.7.(X'= [x: f_X(x) > 0]m Y'= [y: y=g(x) for some x \\in X])\n",
        "\n",
        "1. If g is an incresasing function on X', $F_Y(y)= F_X(g^{-1}(y))$ for y in Y'\n",
        "2. if g is decreasing function on X' and X is continuous random variable. $F_Y(y)= 1- F_X(g^{-1}(y)$\n",
        "\n",
        "\n",
        "Theorem 2.1.10 Probability Integral Transformation: Let X have continuous cdf $F_X(x)$ and define the random variable Y, as Y=$F_X(X)$. Then Y is uniformly distributed on (0,1) that is P(Y\\leq y)= y, 0 <y < 1\n",
        "\n"
      ],
      "metadata": {
        "id": "c8xG7A4Zw6WY"
      }
    },
    {
      "cell_type": "markdown",
      "source": [
        "# 2.2. Expected Values:\n",
        "\n",
        "can be thought af as a measure of centre\n",
        "\n",
        "Def: 2.2.1. The expected value or mean of a r.v. g(X) denoted E[g(X)]\n",
        "\n",
        "- $\\int_{-\\infty}^{\\infty} f_X(x) dx$ if x is continuous\n",
        "- $\\sum_{x \\in X'} g(x) f_X(x)= \\sum g(x) P(X=x)$ if X is discrete\n",
        "\n",
        "2.2.2 Exponential mean\n",
        "2.2.3. Binomial mean\n",
        "2.2.4. Cauchy mean\n",
        "\n",
        "E[aX + b] = a.E[X] + b\n",
        "ex: Binomial: E[X]= n.p then E[X-np]= E[X]- np= np-np = 0\n",
        "\n",
        "Theorem: 2.2.5. Let X be a r.v and let a,b,c be a constants. Then for any functions $g_1(x)$ and $g_2(x)$ whose expectations exist\n",
        "\n",
        "1. $$E[a.g_1(X) + bg_2(X) + c] = aE[g_1(X)] + b.E[g_2(X)] + c$$\n",
        "\n",
        "2. if $g_1(x) \\geq 0$ for all x, then $E[g_1(X)] \\geq 0$\n",
        "\n",
        "3. if $g_1(x) \\geq g_2(x)$ for all x, then $E[g_1(X)] \\geq E[g_2(X)]$\n",
        "\n",
        "4. if $a \\leq g_1(x) \\leq b$ for all x, then $a \\leq. E[g_1(X)] \\leq b$\n",
        "\n",
        "proof\n",
        "\n",
        "Exaample: 2.2.6. minimizing distance\n",
        "\n"
      ],
      "metadata": {
        "id": "45lbbFvOw6Yz"
      }
    },
    {
      "cell_type": "markdown",
      "source": [
        "## 2.3. Moments and Moment Generating Functions:\n",
        "\n",
        "def: 2.3.1. For each integer n , the n-th moment of X (or $F_X(x)$), $\\mu'$ is\n",
        "$$\\mu'_n= E[X^n]$$\n",
        "\n",
        "The n-the central moment of X , $\\mu_n$ is\n",
        "$$\\mu_n = E[X-\\mu]^n$$\n",
        "where $\\mu = \\mu'_1= E[X]$\n",
        "\n",
        "Def. 2.3.2. The variance of a random variable X is its second central moment, $Var[X]= E[X- E[x]]^2$. The positive square root of Var[X] is the standard deviation of X\n",
        "\n",
        "Var. geves a measure of the degree of spred of a distribution around the mean.\n",
        "\n",
        "Ex: 2.3.3. Exponential variance\n",
        "\n",
        "Theorem : 2.3.4. If X is a random variance with fiite variance, then for any constants a and b\n",
        "\n",
        "$$Var[aX + b] = a^2 Var[X]$$\n",
        "\n",
        "proof:\n",
        "\n",
        "Ex: 2.3.5. binomial variance\n",
        "\n",
        "Moment generating function - mgf.\n",
        "\n",
        "Def: 2.3.6. Let X be a r.v. with cdf $F_X$ . The moment generating function of X (or $F_X$) denoted by $M_X(t)$ is\n",
        "$$M_X(t)= E[e^{tX}]$$\n",
        "\n",
        "- continuos mgf: $M_X(t)= \\int_{-\\infty}^{\\infty}e^{tx}f_X(x)dx$\n",
        "- discrete: $M_X(t)= \\sum_x e^{tx} P(X=x)$\n",
        "\n",
        "Theorem 2.3.7. If X has mgf $M_X(t)$, then\n",
        "$$E[X^n] = M_X^{(n)}(0)$$ where we define $$M_X^{(n)}(0)= \\frac{d^n}{dt^n}M_X^{(n)} (t) |_{t=0}$$\n",
        "\n",
        "that is the n-th moment is equal to the n-th direivative of $M_X(t)$ evaluated at t=0\n",
        "\n",
        "Theorem: 2.3.12. Convergence of mgfs: Suppose $X_i: i=1,2..$ is a sequnce of r.v. , each with mff $M_{X_i}(t)$. Furthermore suppose that:\n",
        "$$lim_{i->\\infty} M_X(t)= M_X(t)$$ for all t in a neighborhood of 0\n",
        "\n",
        "and $M_X(t)$ is an mfg. Then there is a unique cdf $F_X$ whose moments are determined by $M_X(t)$ and , for all x where $F_X(x)$ is continuous , we have\n",
        "\n",
        "$$lim_{i-> \\infty} F_{X_i}(x) = F_X(x)$$\n",
        "\n",
        "That is , convergence for $|t|< h$ of mgfs to an mfg implies convergence of cdfs.\n",
        "\n"
      ],
      "metadata": {
        "id": "eYKeYuzHw6a6"
      }
    },
    {
      "cell_type": "markdown",
      "source": [
        "Lemma 2.3.14. Let $a_1,a_2...$ be a sequence of numbers converging to a, that is $lim_{n-> \\infty} a_n = a$. Then\n",
        "$$lim_{n->\\infty}(1 + \\frac{a_n}{n})^n = e^a$$\n",
        "\n"
      ],
      "metadata": {
        "id": "9ZgX74x0w6dC"
      }
    },
    {
      "cell_type": "markdown",
      "source": [],
      "metadata": {
        "id": "1i1LAnUVw6fm"
      }
    },
    {
      "cell_type": "markdown",
      "source": [],
      "metadata": {
        "id": "xXsY88jPw6h7"
      }
    },
    {
      "cell_type": "markdown",
      "source": [],
      "metadata": {
        "id": "71YCDqgtw6lX"
      }
    },
    {
      "cell_type": "markdown",
      "source": [],
      "metadata": {
        "id": "BfoUBFpAw6nH"
      }
    },
    {
      "cell_type": "markdown",
      "source": [],
      "metadata": {
        "id": "azYP8xflw6o-"
      }
    },
    {
      "cell_type": "markdown",
      "source": [],
      "metadata": {
        "id": "s2y5-23fw6rE"
      }
    },
    {
      "cell_type": "markdown",
      "source": [],
      "metadata": {
        "id": "Lam-D9v4w6sV"
      }
    },
    {
      "cell_type": "markdown",
      "source": [],
      "metadata": {
        "id": "y7vXiyt0w6uv"
      }
    },
    {
      "cell_type": "markdown",
      "source": [],
      "metadata": {
        "id": "QFrWAHGMw6wg"
      }
    },
    {
      "cell_type": "markdown",
      "source": [],
      "metadata": {
        "id": "1fRQZQtow6yV"
      }
    },
    {
      "cell_type": "markdown",
      "source": [],
      "metadata": {
        "id": "DgpnsFhUw60q"
      }
    },
    {
      "cell_type": "markdown",
      "source": [],
      "metadata": {
        "id": "gAOUmfGDw61_"
      }
    },
    {
      "cell_type": "markdown",
      "source": [],
      "metadata": {
        "id": "mMswkXGpw64V"
      }
    },
    {
      "cell_type": "markdown",
      "source": [],
      "metadata": {
        "id": "UsPNazqtw66K"
      }
    },
    {
      "cell_type": "markdown",
      "source": [],
      "metadata": {
        "id": "07FlOLNSw67v"
      }
    },
    {
      "cell_type": "markdown",
      "source": [],
      "metadata": {
        "id": "hL56gIodw692"
      }
    },
    {
      "cell_type": "markdown",
      "source": [],
      "metadata": {
        "id": "_xPTpxm9w6_4"
      }
    },
    {
      "cell_type": "markdown",
      "source": [],
      "metadata": {
        "id": "5Rb8wcK6w7Bu"
      }
    },
    {
      "cell_type": "markdown",
      "source": [],
      "metadata": {
        "id": "NFEqwmfuw7ED"
      }
    },
    {
      "cell_type": "markdown",
      "source": [],
      "metadata": {
        "id": "JUFm0_TUw7F2"
      }
    },
    {
      "cell_type": "markdown",
      "source": [],
      "metadata": {
        "id": "XLk67pEGw7H9"
      }
    },
    {
      "cell_type": "markdown",
      "source": [],
      "metadata": {
        "id": "x04yRzB7w7Lm"
      }
    },
    {
      "cell_type": "markdown",
      "source": [],
      "metadata": {
        "id": "T2lKlweXw7Ns"
      }
    },
    {
      "cell_type": "markdown",
      "source": [],
      "metadata": {
        "id": "vIiH2doOw7Ph"
      }
    },
    {
      "cell_type": "markdown",
      "source": [],
      "metadata": {
        "id": "1FR0EZcpw7RW"
      }
    }
  ]
}